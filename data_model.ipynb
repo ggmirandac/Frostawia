{
 "cells": [
  {
   "cell_type": "code",
   "execution_count": 1,
   "metadata": {},
   "outputs": [],
   "source": [
    "import numpy as np\n",
    "import json\n",
    "import pandas"
   ]
  },
  {
   "cell_type": "code",
   "execution_count": 2,
   "metadata": {},
   "outputs": [],
   "source": [
    "telemetry_payload={\"channel\":0,\"from\":4204788772,\"hop_start\":3,\"hops_away\":0,\"id\":2540042451,\"payload\":{\"barometric_pressure\":916.337158203125,\"current\":0,\"gas_resistance\":0,\"iaq\":0,\"lux\":0,\"relative_humidity\":49.712890625,\"temperature\":20.1399993896484,\"voltage\":0,\"white_lux\":0,\"wind_direction\":0,\"wind_gust\":0,\"wind_lull\":0,\"wind_speed\":0},\"rssi\":-21,\"sender\":\"!fa6f163c\",\"snr\":6,\"timestamp\":0,\"to\":4294967295,\"type\":\"telemetry\"}\n"
   ]
  },
  {
   "cell_type": "code",
   "execution_count": 3,
   "metadata": {},
   "outputs": [],
   "source": [
    "def read_payload(payload):\n",
    "    telemetry_payload = payload['payload']\n",
    "    pressure = telemetry_payload['barometric_pressure']\n",
    "    relative_humidity = telemetry_payload['relative_humidity']\n",
    "    temperature = telemetry_payload['temperature']\n",
    "    \n",
    "    "
   ]
  },
  {
   "cell_type": "code",
   "execution_count": null,
   "metadata": {},
   "outputs": [],
   "source": []
  }
 ],
 "metadata": {
  "kernelspec": {
   "display_name": "Python 3",
   "language": "python",
   "name": "python3"
  },
  "language_info": {
   "codemirror_mode": {
    "name": "ipython",
    "version": 3
   },
   "file_extension": ".py",
   "mimetype": "text/x-python",
   "name": "python",
   "nbconvert_exporter": "python",
   "pygments_lexer": "ipython3",
   "version": "3.8.20"
  }
 },
 "nbformat": 4,
 "nbformat_minor": 2
}
